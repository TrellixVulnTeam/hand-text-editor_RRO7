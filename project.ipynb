{
 "cells": [
  {
   "cell_type": "markdown",
   "metadata": {},
   "source": [
    "# Hand Text Editor"
   ]
  },
  {
   "cell_type": "code",
   "execution_count": 3,
   "metadata": {},
   "outputs": [
    {
     "name": "stdout",
     "output_type": "stream",
     "text": [
      "(720, 1280)\n",
      "(720, 1280)\n",
      "(720, 1280)\n",
      "(720, 1280)\n",
      "(720, 1280)\n",
      "(720, 1280)\n",
      "(720, 1280)\n",
      "(720, 1280)\n",
      "(720, 1280)\n",
      "(720, 1280)\n",
      "(720, 1280)\n",
      "(720, 1280)\n",
      "(720, 1280)\n"
     ]
    }
   ],
   "source": [
    "\"\"\"\n",
    "Simply display the contents of the webcam with optional mirroring using OpenCV \n",
    "via the new Pythonic cv2 interface.  Press <esc> to quit.\n",
    "\"\"\"\n",
    "\n",
    "import cv2\n",
    "import numpy as np\n",
    "\n",
    "\n",
    "def rgb2gray(rgb):\n",
    "    return np.dot(rgb[...,:3], [0.299, 0.587, 0.114])\n",
    "\n",
    "def show_webcam(mirror=False):\n",
    "    cam = cv2.VideoCapture(0)\n",
    "    l = np.zeros(10)\n",
    "    while True:\n",
    "        #ret_val is a boolan statement indicating that the value has been returned\n",
    "        ret_val, img = cam.read()\n",
    "        if mirror: \n",
    "            img = cv2.flip(img, 1)\n",
    "        #print(np.array(rgb2gray(img)).shape)\n",
    "        #cv2.imshow('my webcam', rgb2gray(img))\n",
    "        print cv2.waitKey(1)\n",
    "        if cv2.waitKey(1) == 27: \n",
    "            break  # esc to quit\n",
    "    cv2.destroyAllWindows()\n",
    "\n",
    "\n",
    "def main():\n",
    "    show_webcam(mirror=True)\n",
    "\n",
    "\n",
    "if __name__ == '__main__':\n",
    "    main()"
   ]
  },
  {
   "cell_type": "code",
   "execution_count": null,
   "metadata": {},
   "outputs": [],
   "source": []
  }
 ],
 "metadata": {
  "kernelspec": {
   "display_name": "Python 2",
   "language": "python",
   "name": "python2"
  },
  "language_info": {
   "codemirror_mode": {
    "name": "ipython",
    "version": 2
   },
   "file_extension": ".py",
   "mimetype": "text/x-python",
   "name": "python",
   "nbconvert_exporter": "python",
   "pygments_lexer": "ipython2",
   "version": "2.7.14"
  }
 },
 "nbformat": 4,
 "nbformat_minor": 2
}
