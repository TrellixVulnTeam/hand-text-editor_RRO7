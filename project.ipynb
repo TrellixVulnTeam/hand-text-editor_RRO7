{
 "cells": [
  {
   "cell_type": "markdown",
   "metadata": {},
   "source": [
    "# Hand Text Editor"
   ]
  },
  {
   "cell_type": "code",
   "execution_count": 1,
   "metadata": {},
   "outputs": [],
   "source": [
    "\"\"\"\n",
    "Simply display the contents of the webcam with optional mirroring using OpenCV \n",
    "via the new Pythonic cv2 interface.  Press <esc> to quit.\n",
    "\"\"\"\n",
    "\n",
    "import cv2\n",
    "\n",
    "\n",
    "def show_webcam(mirror=False):\n",
    "    cam = cv2.VideoCapture(0)\n",
    "    while True:\n",
    "        ret_val, img = cam.read()\n",
    "        if mirror: \n",
    "            img = cv2.flip(img, 1)\n",
    "        cv2.imshow('my webcam', img)\n",
    "        if cv2.waitKey(1) == 27: \n",
    "            break  # esc to quit\n",
    "    cv2.destroyAllWindows()\n",
    "\n",
    "\n",
    "def main():\n",
    "    show_webcam(mirror=True)\n",
    "\n",
    "\n",
    "if __name__ == '__main__':\n",
    "    main()"
   ]
  },
  {
   "cell_type": "code",
   "execution_count": null,
   "metadata": {},
   "outputs": [],
   "source": []
  }
 ],
 "metadata": {
  "kernelspec": {
   "display_name": "Python 2",
   "language": "python",
   "name": "python2"
  },
  "language_info": {
   "codemirror_mode": {
    "name": "ipython",
    "version": 2
   },
   "file_extension": ".py",
   "mimetype": "text/x-python",
   "name": "python",
   "nbconvert_exporter": "python",
   "pygments_lexer": "ipython2",
   "version": "2.7.14"
  }
 },
 "nbformat": 4,
 "nbformat_minor": 2
}
